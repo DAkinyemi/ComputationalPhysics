{
 "cells": [
  {
   "cell_type": "markdown",
   "metadata": {
    "collapsed": false
   },
   "source": [
    "# Newton's Law of Cooling\n",
    "\n",
    "Please make a copy of this notebook to work in. This will allow me to 'reassign' the notebook after changes\n",
    "\n",
    "Newton's Law states that *the rate of heat loss of a body is directly proportional to the difference in the temperatures between the body and its surroundings provided the temperature difference is small and the nature of radiating surface remains same.*"
   ]
  },
  {
   "cell_type": "markdown",
   "metadata": {
    "collapsed": false
   },
   "source": [
    "## Theoretical Understanding\n",
    "Monday Sep. 17, 2018\n"
   ]
  },
  {
   "cell_type": "markdown",
   "metadata": {
    "collapsed": false
   },
   "source": [
    "** Problem 1**: Problem formulation\n",
    "\n",
    "Assuming small temperature differences, construct a differential equation that describes the statement of NLC. Label the temperature of the surroundings as $T_{out}$ and assume it remains constant. Let $T$ be the temperature of the body. Identify any constants you use in the formulation and it's units."
   ]
  },
  {
   "cell_type": "markdown",
   "metadata": {
    "collapsed": false
   },
   "source": [
    "**Problem 2**: Analytical Solution\n",
    "\n",
    "Solve the differential equation from above analytically, *i.e.* as an expression. Identify what that other information you would need to know explicitly to be able to predict the temperature $T$ at any point in time."
   ]
  },
  {
   "cell_type": "markdown",
   "metadata": {
    "collapsed": false
   },
   "source": [
    "$T = T_{out} + A * e^{-k*t}$"
   ]
  },
  {
   "cell_type": "markdown",
   "metadata": {
    "collapsed": false
   },
   "source": [
    "**Problem 3**: Numerical Solution\n",
    "\n",
    "Use Euler's method to produce a plot of $T(t)$. Use guessed values of any quantities you need to know the explicit values for. Using the same guessed values, plot the analytically derived solution for $T$."
   ]
  },
  {
   "cell_type": "markdown",
   "metadata": {
    "collapsed": false
   },
   "source": [
    "## Application\n"
   ]
  },
  {
   "cell_type": "code",
   "execution_count": 30,
   "metadata": {
    "collapsed": false
   },
   "outputs": [
   ],
   "source": [
    "import numpy as np\n",
    "\n",
    "#Declare initial conditions and variable values\n",
    "\n",
    "k = .15\n",
    "Tout = 22\n",
    "N = 100\n",
    "T = np.zeros((N,1)) #Create blank array for temperatures\n",
    "T[0] = 200\n",
    "dt = 1\n",
    "\n",
    "#Euler's method\n",
    "for ti in range(1,(N*dt)):\n",
    "    T[ti] = T[ti-1] + dt * k*(Tout - T[ti-1])"
   ]
  },
  {
   "cell_type": "code",
   "execution_count": 32,
   "metadata": {
    "collapsed": false
   },
   "outputs": [
    {
     "data": {
      "text/plain": [
       "Text(0,0.5,u'temperature')"
      ]
     },
     "execution_count": 32,
     "metadata": {
     },
     "output_type": "execute_result"
    },
    {
     "data": {
      "image/png": "[encoded data removed]"
     },
     "execution_count": 32,
     "metadata": {
     },
     "output_type": "execute_result"
    }
   ],
   "source": [
    "#Plots the guessed values of temperature as a function of time\n",
    "import matplotlib.pyplot as plt\n",
    "plt.plot(T,'o-')\n",
    "plt.xlabel('time')\n",
    "plt.ylabel('temperature')"
   ]
  },
  {
   "cell_type": "code",
   "execution_count": 33,
   "metadata": {
    "collapsed": false
   },
   "outputs": [
   ],
   "source": [
    "import numpy as np\n",
    "\n",
    "#Declare initial conditions and variable values\n",
    "k = .15\n",
    "Tout = 22\n",
    "N = 100\n",
    "T = np.zeros((N,1)) #Create blank array for temperatures\n",
    "T[0] = 200\n",
    "A = T[0]\n",
    "dt = 1\n",
    "\n",
    "#Calculates the analytically derived solution\n",
    "for ti in range(1,(N*dt)):\n",
    "    T[ti] = Tout + A* np.exp(-k*ti)"
   ]
  },
  {
   "cell_type": "code",
   "execution_count": 35,
   "metadata": {
    "collapsed": false
   },
   "outputs": [
    {
     "data": {
      "text/plain": [
       "Text(0,0.5,u'temperature')"
      ]
     },
     "execution_count": 35,
     "metadata": {
     },
     "output_type": "execute_result"
    },
    {
     "data": {
      "image/png": "[encoded data removed]"
     },
     "execution_count": 35,
     "metadata": {
     },
     "output_type": "execute_result"
    }
   ],
   "source": [
    "#Plots the analytically derived temperature as a function of time\n",
    "import matplotlib.pyplot as plt\n",
    "plt.plot(T,'o-')\n",
    "plt.xlabel('time')\n",
    "plt.ylabel('temperature')"
   ]
  },
  {
   "cell_type": "markdown",
   "metadata": {
    "collapsed": false
   },
   "source": [
    "## Application\n"
   ]
  },
  {
   "cell_type": "markdown",
   "metadata": {
    "collapsed": false
   },
   "source": [
    "Here we will use real data to explicitly construct Newton's law of cooling, including values of any physical constants.\n",
    "\n",
    "The data file **`A04_temp.dat`** contains the temperature of an object as it varies through time. In this case, the object warms to an ambient temperature. From this data, find the functional relationship between $\\dot{T}$ and $T$, including values of any constants, *i.e.* construct the complete equation for the law of cooling."
   ]
  },
  {
   "cell_type": "markdown",
   "metadata": {
    "collapsed": false
   },
   "source": [
    "### Required numpy methods\n",
    "\n",
    "*`np.loadtxt()`* - To read data file into array (which by default is a *numpy* array)\n",
    "\n",
    "*`np.zeros()`* - To create an empty array to store the $\\dot{T}$ values corresponding to each $T$.\n",
    "\n",
    "*`np.polyfit()`* - To find a fit to the points whose coordinates are ($T$, $\\dot{T}$). The output of `np.polyfit` returns the slope and y-intercept values."
   ]
  },
  {
   "cell_type": "code",
   "execution_count": 21,
   "metadata": {
    "collapsed": false
   },
   "outputs": [
    {
     "name": "stdout",
     "output_type": "stream",
     "text": [
      "[[  0.00000000e+00   1.85416667e-01]\n",
      " [  6.00000000e+01   1.31250000e-01]\n",
      " [  1.20000000e+02   7.27459016e-02]\n",
      " [  1.81000000e+02   4.06250000e-02]\n",
      " [  2.41000000e+02   2.11864407e-02]\n",
      " [  3.00000000e+02   1.43442623e-02]\n",
      " [  3.61000000e+02   6.25000000e-03]\n",
      " [  4.21000000e+02   6.25000000e-03]\n",
      " [  4.81000000e+02   3.12500000e-03]\n",
      " [  5.41000000e+02   3.17796610e-03]\n",
      " [  6.00000000e+02   1.04166667e-03]\n",
      " [  6.60000000e+02   5.20833333e-03]\n",
      " [  7.20000000e+02   3.07377049e-03]\n",
      " [  7.81000000e+02   0.00000000e+00]\n",
      " [  8.41000000e+02   1.05932203e-03]]\n"
     ]
    }
   ],
   "source": [
    "# load data file\n",
    "import numpy as np\n",
    "data = np.loadtxt(\"A04_temp.dat\")\n",
    "\n",
    "# Create empty array to store calurlcated slope values\n",
    "T = np.zeros((len(data)-1,2))\n",
    "\n",
    "# Loop that caluculates slope and fills the empty array created\n",
    "for i in range(0,len(data)-1):\n",
    "    T[i][1] = (data[i+1][1] - data[i][1])/(data[i+1][0] - data[i][0])\n",
    "    T[i][0] = data[i][0]\n",
    "print(T)"
   ]
  },
  {
   "cell_type": "code",
   "execution_count": 47,
   "metadata": {
    "collapsed": false,
    "scrolled": true
   },
   "outputs": [
    {
     "name": "stdout",
     "output_type": "stream",
     "text": [
      "[-0.000158    0.09942837]\n"
     ]
    },
    {
     "data": {
      "text/plain": [
       "Text(0,0.5,u'Temp/sec')"
      ]
     },
     "execution_count": 47,
     "metadata": {
     },
     "output_type": "execute_result"
    },
    {
     "data": {
      "image/png": "[encoded data removed]"
     },
     "execution_count": 47,
     "metadata": {
     },
     "output_type": "execute_result"
    }
   ],
   "source": [
    "#Declare x and y as components of the newly filled slope array\n",
    "x = T[:,0]\n",
    "y = T[:,1]\n",
    "\n",
    "# finds the slope and y intercerpt t\n",
    "z = np.polyfit(x,y,1)\n",
    "print(z)\n",
    "\n",
    "# Uses the slop and y-intecept to create a polynomial equation\n",
    "p = np.poly1d(z)\n",
    "import matplotlib.pyplot as plt\n",
    "\n",
    "xp = np.linspace(0, max(data[:,0])) #Creates a range from 0 to the highest tempertaure in the data\n",
    "#Plot x range and the coresponding rates of change as a function\n",
    "plt.plot(xp, p(xp), '-')\n",
    "plt.xlabel('temperature')\n",
    "plt.ylabel('Temp/sec')"
   ]
  },
  {
   "cell_type": "markdown",
   "metadata": {
    "collapsed": false
   },
   "source": [
    "$\\frac{dT}{dt} = -0.000158\\text{s } * T + 0.09942837\\text{ deg/sec}$"
   ]
  },
  {
   "cell_type": "markdown",
   "metadata": {
    "collapsed": false
   },
   "source": [
   ]
  }
 ],
 "metadata": {
  "kernelspec": {
   "display_name": "SageMath (stable)",
   "name": "sagemath"
  },
  "language_info": {
   "codemirror_mode": {
    "name": "ipython",
    "version": 2
   },
   "file_extension": ".py",
   "mimetype": "text/x-python",
   "name": "python",
   "nbconvert_exporter": "python",
   "pygments_lexer": "ipython2",
   "version": "2.7.15"
  }
 },
 "nbformat": 4,
 "nbformat_minor": 0
}